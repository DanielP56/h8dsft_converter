{
 "cells": [
  {
   "cell_type": "code",
   "execution_count": 56,
   "id": "fef5550a",
   "metadata": {
    "scrolled": true
   },
   "outputs": [
    {
     "name": "stdout",
     "output_type": "stream",
     "text": [
      "0 Kelvin =  -273.15 Celcius\n",
      "0 Celcius =  273.15 Kelvin\n"
     ]
    }
   ],
   "source": [
    "#\"merubah celcius -> kelvin dan sebaliknya\"\n",
    "def suhu(cel = 0,kel = 0):\n",
    "    celcius = kel - 273.15\n",
    "    kelvin = cel + 273.15\n",
    "    print(kel,\"Kelvin = \",celcius,\"Celcius\")\n",
    "    print(cel,\"Celcius = \",kelvin,\"Kelvin\")\n",
    "suhu()"
   ]
  },
  {
   "cell_type": "code",
   "execution_count": 57,
   "id": "430de1b5",
   "metadata": {
    "scrolled": false
   },
   "outputs": [
    {
     "name": "stdout",
     "output_type": "stream",
     "text": [
      "0 Celcuis =  32.0 Fahrenheit\n",
      "0 Kelvin =  -459.66999999999996 Fahrenheit\n"
     ]
    }
   ],
   "source": [
    "#\"celcius dan kelvin -> fahrenheit\"\n",
    "def fahrenheit(cel = 0,kel = 0):\n",
    "    celtofah = ((cel)*9/5)+32\n",
    "    keltofah = ((kel - 273.15)*9/5)+32\n",
    "    print(cel,\"Celcuis = \",celtofah,\"Fahrenheit\")\n",
    "    print(kel,\"Kelvin = \",keltofah,\"Fahrenheit\")\n",
    "fahrenheit()"
   ]
  },
  {
   "cell_type": "code",
   "execution_count": 59,
   "id": "bb1dfe96",
   "metadata": {},
   "outputs": [
    {
     "name": "stdout",
     "output_type": "stream",
     "text": [
      "0 Fahrenheit =  -17.77777777777778 Celcius\n",
      "0 Fahrenheit =  255.3722222222222 Kelvin\n"
     ]
    }
   ],
   "source": [
    "#\"fahrenheit -> celcius dan kelvin\"\n",
    "def suhu1(x=0):\n",
    "    celcius = (x-32)*5/9\n",
    "    kelvin = ((x-32)*5/9)+273.15\n",
    "    print(x,\"Fahrenheit = \",celcius,\"Celcius\")\n",
    "    print(x,\"Fahrenheit = \",kelvin,\"Kelvin\")\n",
    "suhu1()"
   ]
  },
  {
   "cell_type": "code",
   "execution_count": null,
   "id": "a1c8e9ff",
   "metadata": {},
   "outputs": [],
   "source": []
  }
 ],
 "metadata": {
  "kernelspec": {
   "display_name": "Python 3",
   "language": "python",
   "name": "python3"
  },
  "language_info": {
   "codemirror_mode": {
    "name": "ipython",
    "version": 3
   },
   "file_extension": ".py",
   "mimetype": "text/x-python",
   "name": "python",
   "nbconvert_exporter": "python",
   "pygments_lexer": "ipython3",
   "version": "3.8.8"
  }
 },
 "nbformat": 4,
 "nbformat_minor": 5
}
